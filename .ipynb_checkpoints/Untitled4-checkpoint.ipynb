{
 "cells": [
  {
   "cell_type": "code",
   "execution_count": 1,
   "id": "d13803c7",
   "metadata": {},
   "outputs": [],
   "source": [
    "import requests\n",
    "import json as js"
   ]
  },
  {
   "cell_type": "code",
   "execution_count": 2,
   "id": "a22bcb9c",
   "metadata": {},
   "outputs": [],
   "source": [
    "def getFromUrl(url):\n",
    "    return requests.get(url, verify = False)"
   ]
  },
  {
   "cell_type": "code",
   "execution_count": 3,
   "id": "b595b08b",
   "metadata": {},
   "outputs": [],
   "source": [
    "def getRec(json):\n",
    "    if( json['next'] != None ):\n",
    "        #Obtaining the next url from the json\n",
    "        url = json['next']\n",
    "        # Using un verify connection before their ssl certificate expired\n",
    "        response=getFromUrl(url)\n",
    "        next=response.json()\n",
    "        #Adding result\n",
    "        json['results'].extend(next['results'])\n",
    "        #Updating previous and next to allow for further iterations\n",
    "        json['previous']=next['previous']\n",
    "        json['next']=next['next']\n",
    "        getRec(json)\n",
    "    return json"
   ]
  },
  {
   "cell_type": "code",
   "execution_count": 4,
   "id": "ace7be76",
   "metadata": {},
   "outputs": [],
   "source": [
    "def getAll(resource):\n",
    "    url =\"\"\n",
    "    if(resource == \"people\"):\n",
    "        url = \"https://swapi.dev/api/people/\"\n",
    "    elif(resource == \"films\"):\n",
    "        url = \"https://swapi.dev/api/films\"\n",
    "    else:\n",
    "        url =\"\"\n",
    "    if(url != \"\"):\n",
    "        #Performing the first iteration to commence the the recursive function getRec\n",
    "        response = getFromUrl(url)\n",
    "        json=response.json()\n",
    "        return getRec(json)\n",
    "    return None"
   ]
  },
  {
   "cell_type": "code",
   "execution_count": 5,
   "id": "84abb194",
   "metadata": {},
   "outputs": [],
   "source": [
    "def writeJson(filename,l):\n",
    "    #Converting from a list to json string\n",
    "    jsonString = js.dumps(l, indent=4)\n",
    "    with open(filename, \"w\") as outfile:\n",
    "        outfile.write(jsonString)"
   ]
  },
  {
   "cell_type": "code",
   "execution_count": 6,
   "id": "69d04836",
   "metadata": {},
   "outputs": [
    {
     "name": "stderr",
     "output_type": "stream",
     "text": [
      "/home/administrator/anaconda3/lib/python3.8/site-packages/requests/packages/urllib3/connectionpool.py:730: InsecureRequestWarning: Unverified HTTPS request is being made. Adding certificate verification is strongly advised. See: https://urllib3.readthedocs.org/en/latest/security.html\n",
      "  warnings.warn((\n",
      "/home/administrator/anaconda3/lib/python3.8/site-packages/requests/packages/urllib3/connectionpool.py:730: InsecureRequestWarning: Unverified HTTPS request is being made. Adding certificate verification is strongly advised. See: https://urllib3.readthedocs.org/en/latest/security.html\n",
      "  warnings.warn((\n",
      "/home/administrator/anaconda3/lib/python3.8/site-packages/requests/packages/urllib3/connectionpool.py:730: InsecureRequestWarning: Unverified HTTPS request is being made. Adding certificate verification is strongly advised. See: https://urllib3.readthedocs.org/en/latest/security.html\n",
      "  warnings.warn((\n",
      "/home/administrator/anaconda3/lib/python3.8/site-packages/requests/packages/urllib3/connectionpool.py:730: InsecureRequestWarning: Unverified HTTPS request is being made. Adding certificate verification is strongly advised. See: https://urllib3.readthedocs.org/en/latest/security.html\n",
      "  warnings.warn((\n",
      "/home/administrator/anaconda3/lib/python3.8/site-packages/requests/packages/urllib3/connectionpool.py:730: InsecureRequestWarning: Unverified HTTPS request is being made. Adding certificate verification is strongly advised. See: https://urllib3.readthedocs.org/en/latest/security.html\n",
      "  warnings.warn((\n",
      "/home/administrator/anaconda3/lib/python3.8/site-packages/requests/packages/urllib3/connectionpool.py:730: InsecureRequestWarning: Unverified HTTPS request is being made. Adding certificate verification is strongly advised. See: https://urllib3.readthedocs.org/en/latest/security.html\n",
      "  warnings.warn((\n",
      "/home/administrator/anaconda3/lib/python3.8/site-packages/requests/packages/urllib3/connectionpool.py:730: InsecureRequestWarning: Unverified HTTPS request is being made. Adding certificate verification is strongly advised. See: https://urllib3.readthedocs.org/en/latest/security.html\n",
      "  warnings.warn((\n",
      "/home/administrator/anaconda3/lib/python3.8/site-packages/requests/packages/urllib3/connectionpool.py:730: InsecureRequestWarning: Unverified HTTPS request is being made. Adding certificate verification is strongly advised. See: https://urllib3.readthedocs.org/en/latest/security.html\n",
      "  warnings.warn((\n",
      "/home/administrator/anaconda3/lib/python3.8/site-packages/requests/packages/urllib3/connectionpool.py:730: InsecureRequestWarning: Unverified HTTPS request is being made. Adding certificate verification is strongly advised. See: https://urllib3.readthedocs.org/en/latest/security.html\n",
      "  warnings.warn((\n"
     ]
    }
   ],
   "source": [
    "people=getAll(\"people\")\n",
    "# Converting all birth years... knowning that they all BBY (Battle of Yavin)\n",
    "for result in people[\"results\"]:\n",
    "    if( result[\"birth_year\"] == \"unknown\" ):\n",
    "        result[\"birth_year\"] = \"-1\"\n",
    "    else:\n",
    "        byL = len(result[\"birth_year\"])\n",
    "        result[\"birth_year\"] = \"\"+result[\"birth_year\"][:byL-3]\n",
    "\n",
    "writeJson(\"people.json\",people[\"results\"])"
   ]
  },
  {
   "cell_type": "code",
   "execution_count": 7,
   "id": "75472753",
   "metadata": {},
   "outputs": [],
   "source": [
    "filmPerson=[]\n",
    "#Producing a join table with film and person url\n",
    "for result in people[\"results\"]:\n",
    "    for film in result[\"films\"]:\n",
    "        dict={\"film\":film,\"person\":result[\"url\"]}\n",
    "        filmPerson.append(dict)\n",
    "writeJson(\"filmPerson.json\",filmPerson)"
   ]
  },
  {
   "cell_type": "code",
   "execution_count": 8,
   "id": "e666ed3a",
   "metadata": {},
   "outputs": [
    {
     "name": "stderr",
     "output_type": "stream",
     "text": [
      "/home/administrator/anaconda3/lib/python3.8/site-packages/requests/packages/urllib3/connectionpool.py:730: InsecureRequestWarning: Unverified HTTPS request is being made. Adding certificate verification is strongly advised. See: https://urllib3.readthedocs.org/en/latest/security.html\n",
      "  warnings.warn((\n"
     ]
    }
   ],
   "source": [
    "films=getAll(\"films\")\n",
    "writeJson(\"films.json\",films[\"results\"])"
   ]
  },
  {
   "cell_type": "code",
   "execution_count": null,
   "id": "a752ea93",
   "metadata": {},
   "outputs": [],
   "source": [
    "    if __name__==__main:\n",
    "        people=getAll(\"people\")\n",
    "        # Converting all birth years... knowning that they all BBY (Battle of Yavin)\n",
    "        # Only keeping the numeric part \n",
    "        for result in people[\"results\"]:\n",
    "            if( result[\"birth_year\"] == \"unknown\" ):\n",
    "                result[\"birth_year\"] = \"-1\"\n",
    "            else:\n",
    "                byL = len(result[\"birth_year\"])\n",
    "                result[\"birth_year\"] = \"\"+result[\"birth_year\"][:byL-3]\n",
    "\n",
    "\n",
    "\n",
    "        filmPerson=[]\n",
    "        #Producing a join table with film and person url\n",
    "        for result in people[\"results\"]:\n",
    "            for film in result[\"films\"]:\n",
    "                dict={\"film\":film,\"person\":result[\"url\"]}\n",
    "                filmPerson.append(dict)\n",
    "        writeJson(\"filmPerson.json\",filmPerson)\n",
    "\n",
    "        films=getAll(\"films\")\n",
    "\n",
    "        writeJson(\"people.json\",people[\"results\"])\n",
    "        writeJson(\"filmPerson.json\",filmPerson)\n",
    "        writeJson(\"films.json\",films[\"results\"])"
   ]
  },
  {
   "cell_type": "code",
   "execution_count": null,
   "id": "169ab055",
   "metadata": {},
   "outputs": [],
   "source": [
    "if __name__==\"__main__\":\n",
    "    people=getAll(\"people\")\n",
    "    # Converting all birth years... knowning that they all BBY (Battle of Yavin)\n",
    "    # Only keeping the numeric part \n",
    "    for result in people[\"results\"]:\n",
    "        if( result[\"birth_year\"] == \"unknown\" ):\n",
    "            result[\"birth_year\"] = \"-1\"\n",
    "        else:\n",
    "            byL = len(result[\"birth_year\"])\n",
    "            result[\"birth_year\"] = \"\"+result[\"birth_year\"][:byL-3]\n",
    "        if( result[\"height\"] == \"unknown\" ):\n",
    "            result[\"height\"] = \"-1\"\n",
    "        elif(result[\"mass\"]== \"unknown\"):\n",
    "            result[\"mass\"]= \"-1\"\n",
    "\n",
    "    filmPerson=[]\n",
    "    #Producing a join table with film and person url\n",
    "    for result in people[\"results\"]:\n",
    "        for film in result[\"films\"]:\n",
    "            dict={\"film\":film,\"person\":result[\"url\"]}\n",
    "            filmPerson.append(dict)\n",
    "\n",
    "    films=getAll(\"films\")\n",
    "\n",
    "    tools.writeJson(\"people.json\",people[\"results\"])\n",
    "    tools.writeJson(\"filmPerson.json\",filmPerson)\n",
    "    tools.writeJson(\"films.json\",films[\"results\"])"
   ]
  },
  {
   "cell_type": "code",
   "execution_count": null,
   "id": "5947f281",
   "metadata": {},
   "outputs": [],
   "source": [
    "if __name__==\"__main__\":\n",
    "    people=getAll(\"people\")\n",
    "    # Converting all birth years... knowning that they all BBY (Battle of Yavin)\n",
    "    # Only keeping the numeric part \n",
    "    for result in people[\"results\"]:\n",
    "        if( result[\"birth_year\"] == \"unknown\" ):\n",
    "            result[\"birth_year\"] = \"-1\"\n",
    "        else:\n",
    "            byL = len(result[\"birth_year\"])\n",
    "            result[\"birth_year\"] = \"\"+result[\"birth_year\"][:byL-3]\n",
    "        if( result[\"height\"] == \"unknown\" ):\n",
    "            result[\"height\"] = \"-1\"\n",
    "        else:\n",
    "            result[\"height\"] = int(result[\"height\"])\n",
    "        if(result[\"mass\"]== \"unknown\"):\n",
    "            result[\"mass\"]= int(\"-1\")\n",
    "        else:\n",
    "            result[\"mass\"]=int(result[\"mass\"])\n",
    "\n",
    "\n",
    "    filmPerson=[]\n",
    "    #Producing a join table with film and person url\n",
    "    for result in people[\"results\"]:\n",
    "        for film in result[\"films\"]:\n",
    "            dict={\"film\":film,\"person\":result[\"url\"]}\n",
    "            filmPerson.append(dict)\n",
    "\n",
    "    films=getAll(\"films\")\n",
    "\n",
    "    tools.writeJson(\"people.json\",people[\"results\"])\n",
    "    tools.writeJson(\"filmPerson.json\",filmPerson)\n",
    "    tools.writeJson(\"films.json\",films[\"results\"])"
   ]
  }
 ],
 "metadata": {
  "kernelspec": {
   "display_name": "Python 3",
   "language": "python",
   "name": "python3"
  },
  "language_info": {
   "codemirror_mode": {
    "name": "ipython",
    "version": 3
   },
   "file_extension": ".py",
   "mimetype": "text/x-python",
   "name": "python",
   "nbconvert_exporter": "python",
   "pygments_lexer": "ipython3",
   "version": "3.8.8"
  }
 },
 "nbformat": 4,
 "nbformat_minor": 5
}
